{
  "nbformat": 4,
  "nbformat_minor": 0,
  "metadata": {
    "colab": {
      "provenance": []
    },
    "kernelspec": {
      "name": "python3",
      "display_name": "Python 3"
    },
    "language_info": {
      "name": "python"
    }
  },
  "cells": [
    {
      "cell_type": "code",
      "source": [
        "import pandas as pd\n",
        "from sklearn.preprocessing import MinMaxScaler\n",
        "\n",
        "# Load the dataset\n",
        "file_path = '/content/WineQT.csv'\n",
        "data = pd.read_csv(file_path)\n",
        "\n",
        "# Convert quality attribute: 0 (bad) if <= 6, 1 (good) if > 6\n",
        "data['quality'] = data['quality'].apply(lambda x: 0 if x <= 6 else 1)\n",
        "\n",
        "# Normalize all other attributes using min-max scaling\n",
        "scaler = MinMaxScaler()\n",
        "features = data.drop('quality', axis=1)  # Exclude the quality column for scaling\n",
        "scaled_features = scaler.fit_transform(features)\n",
        "\n",
        "# Combine scaled features with the quality column\n",
        "scaled_data = pd.DataFrame(scaled_features, columns=features.columns)\n",
        "scaled_data['quality'] = data['quality']\n",
        "\n",
        "# Output the transformed data\n",
        "print(scaled_data.head())\n",
        "\n",
        "# Save the scaled data to a new CSV file (if needed)\n",
        "scaled_data.to_csv('/content/WineQT.csv', index=False)\n"
      ],
      "metadata": {
        "id": "g0O-jmZptwR2",
        "colab": {
          "base_uri": "https://localhost:8080/"
        },
        "outputId": "d0f8928f-ae2f-4eff-dd09-932488ea109d"
      },
      "execution_count": 1,
      "outputs": [
        {
          "output_type": "stream",
          "name": "stdout",
          "text": [
            "   fixed acidity  volatile acidity  citric acid  residual sugar  chlorides  \\\n",
            "0       0.247788          0.397260         0.00        0.068493   0.106845   \n",
            "1       0.283186          0.520548         0.00        0.116438   0.143573   \n",
            "2       0.283186          0.438356         0.04        0.095890   0.133556   \n",
            "3       0.584071          0.109589         0.56        0.068493   0.105175   \n",
            "4       0.247788          0.397260         0.00        0.068493   0.106845   \n",
            "\n",
            "   free sulfur dioxide  total sulfur dioxide   density        pH  sulphates  \\\n",
            "0             0.149254              0.098940  0.567548  0.606299   0.137725   \n",
            "1             0.358209              0.215548  0.494126  0.362205   0.209581   \n",
            "2             0.208955              0.169611  0.508811  0.409449   0.191617   \n",
            "3             0.238806              0.190813  0.582232  0.330709   0.149701   \n",
            "4             0.149254              0.098940  0.567548  0.606299   0.137725   \n",
            "\n",
            "    alcohol        Id  quality  \n",
            "0  0.153846  0.000000        0  \n",
            "1  0.215385  0.000626        0  \n",
            "2  0.215385  0.001252        0  \n",
            "3  0.215385  0.001879        0  \n",
            "4  0.153846  0.002505        0  \n"
          ]
        }
      ]
    }
  ]
}